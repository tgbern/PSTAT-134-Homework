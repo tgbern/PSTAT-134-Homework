{
 "cells": [
  {
   "cell_type": "code",
   "execution_count": 113,
   "metadata": {
    "deletable": false,
    "editable": false
   },
   "outputs": [],
   "source": [
    "# Initialize Otter\n",
    "import otter\n",
    "grader = otter.Notebook(\"assignment4.ipynb\")"
   ]
  },
  {
   "cell_type": "markdown",
   "metadata": {
    "toc": true
   },
   "source": [
    "<h1>Table of Contents<span class=\"tocSkip\"></span></h1>\n",
    "<div class=\"toc\"><ul class=\"toc-item\"><li><span><a href=\"#Assignment-4:-Modeling-and-Optimization\" data-toc-modified-id=\"Assignment-4:-Modeling-and-Optimization-1\">Assignment 4: Modeling and Optimization</a></span></li><li><span><a href=\"#Questions-1-3:-Resource-Allocation-Problem\" data-toc-modified-id=\"Questions-1-3:-Resource-Allocation-Problem-2\">Questions 1-3: Resource Allocation Problem</a></span><ul class=\"toc-item\"><li><span><a href=\"#Question-1:-Resource-Constraints\" data-toc-modified-id=\"Question-1:-Resource-Constraints-2.1\">Question 1: Resource Constraints</a></span><ul class=\"toc-item\"><li><span><a href=\"#Question-1.a:-Modeling-Resource-Usage\" data-toc-modified-id=\"Question-1.a:-Modeling-Resource-Usage-2.1.1\">Question 1.a: Modeling Resource Usage</a></span></li><li><span><a href=\"#Question-1.b:--Resource-Usage-vs.-Total-Resource-Constraint\" data-toc-modified-id=\"Question-1.b:--Resource-Usage-vs.-Total-Resource-Constraint-2.1.2\">Question 1.b:  Resource Usage vs. Total Resource Constraint</a></span></li><li><span><a href=\"#Question-1.c:-Feasible-Region-Boundary\" data-toc-modified-id=\"Question-1.c:-Feasible-Region-Boundary-2.1.3\">Question 1.c: Feasible Region Boundary</a></span></li><li><span><a href=\"#Question-1.d:-Interior-of-Feasible-Region\" data-toc-modified-id=\"Question-1.d:-Interior-of-Feasible-Region-2.1.4\">Question 1.d: Interior of Feasible Region</a></span></li><li><span><a href=\"#Question-1.e:-Visualizing-the-Feasible-Region\" data-toc-modified-id=\"Question-1.e:-Visualizing-the-Feasible-Region-2.1.5\">Question 1.e: Visualizing the Feasible Region</a></span></li></ul></li><li><span><a href=\"#Question-2:-Objective-Function\" data-toc-modified-id=\"Question-2:-Objective-Function-2.2\">Question 2: Objective Function</a></span><ul class=\"toc-item\"><li><span><a href=\"#Question-2.a:-Defining-Objective-Function\" data-toc-modified-id=\"Question-2.a:-Defining-Objective-Function-2.2.1\">Question 2.a: Defining Objective Function</a></span></li><li><span><a href=\"#Question-2.b:-Direction-of-Steepest-Increase\" data-toc-modified-id=\"Question-2.b:-Direction-of-Steepest-Increase-2.2.2\">Question 2.b: Direction of Steepest Increase</a></span></li></ul></li><li><span><a href=\"#Question-3:-Putting-Pieces-Together\" data-toc-modified-id=\"Question-3:-Putting-Pieces-Together-2.3\">Question 3: Putting Pieces Together</a></span><ul class=\"toc-item\"><li><span><a href=\"#Question-3.a:-Standard-Form-of-a-Linear-Programming-Problem\" data-toc-modified-id=\"Question-3.a:-Standard-Form-of-a-Linear-Programming-Problem-2.3.1\">Question 3.a: Standard Form of a Linear Programming Problem</a></span></li><li><span><a href=\"#Question-3.b:-Computing-the-Numerical-Solution\" data-toc-modified-id=\"Question-3.b:-Computing-the-Numerical-Solution-2.3.2\">Question 3.b: Computing the Numerical Solution</a></span></li><li><span><a href=\"#Question-3.c:-Plotting-the-optimal-solution\" data-toc-modified-id=\"Question-3.c:-Plotting-the-optimal-solution-2.3.3\">Question 3.c: Plotting the optimal solution</a></span></li></ul></li></ul></li><li><span><a href=\"#Question-4:-Nutrition-Problem\" data-toc-modified-id=\"Question-4:-Nutrition-Problem-3\">Question 4: Nutrition Problem</a></span><ul class=\"toc-item\"><li><ul class=\"toc-item\"><li><span><a href=\"#Question-4.a:-Define-Constraints\" data-toc-modified-id=\"Question-4.a:-Define-Constraints-3.0.1\">Question 4.a: Define Constraints</a></span></li><li><span><a href=\"#Question-4.b:-Create-Python-Variables\" data-toc-modified-id=\"Question-4.b:-Create-Python-Variables-3.0.2\">Question 4.b: Create Python Variables</a></span></li><li><span><a href=\"#Question-4.c:-Solve-the-Problem\" data-toc-modified-id=\"Question-4.c:-Solve-the-Problem-3.0.3\">Question 4.c: Solve the Problem</a></span></li><li><span><a href=\"#Question-4.d:-Interpreting-the-Results\" data-toc-modified-id=\"Question-4.d:-Interpreting-the-Results-3.0.4\">Question 4.d: Interpreting the Results</a></span></li></ul></li><li><span><a href=\"#Submission\" data-toc-modified-id=\"Submission-3.1\">Submission</a></span></li></ul></li></ul></div>"
   ]
  },
  {
   "cell_type": "markdown",
   "metadata": {},
   "source": [
    "# Assignment 4: Modeling and Optimization\n",
    "\n",
    "**Due on June 12 at 11:59 pm**"
   ]
  },
  {
   "cell_type": "markdown",
   "metadata": {},
   "source": [
    "Mathematical modeling of a problem at hand give us a systematic way of finding a solution. For example, a maximum likelihood estimator (assuming it exists), $\\hat\\theta$, is a method for finding the parameter that maximizes the likelihood of the data $L_n$:\n",
    "$$L_{n}(\\hat{\\theta} ; x_1, x_2, \\dots, x_n)=\\max _{\\theta \\in \\Theta} L_{n}(\\theta ; x_1, x_2, \\dots, x_n)$$\n",
    "Data $x_1, x_2, \\dots$, set of feasible parameters $\\Theta$, and likelihood function $L_n$ are given. We find the parameter that \"best\" describe the data in the context of the likelihood function.\n",
    "\n",
    "Many other applications of optimization exists, and this assignment will give a hands-on introduction to a simple linear programming problem."
   ]
  },
  {
   "cell_type": "code",
   "execution_count": 114,
   "metadata": {},
   "outputs": [],
   "source": [
    "import cvxpy as cp\n",
    "import numpy as np\n",
    "import pandas as pd\n",
    "%matplotlib inline\n",
    "import matplotlib.pyplot as plt\n",
    "import seaborn as sns\n",
    "sns.set_style(\"whitegrid\")"
   ]
  },
  {
   "cell_type": "markdown",
   "metadata": {
    "deletable": false,
    "editable": false
   },
   "source": [
    "<!-- BEGIN QUESTION -->\n",
    "\n",
    "# Questions 1-3: Resource Allocation Problem\n",
    "\n",
    "You are in charge of a company that makes two hot sauces: $x_1$ liters of Kapatio and $x_2$ liters of Zriracha. We will use optimization technique to find the \"best\" manufacturing strategy given our resource constraints.\n",
    "\n",
    "First, we need to define what we mean by \"best\" strategy. In this scenario, the goal is to obtain the highest revenue possible. While doing so, there are resource constraints we must satisfy. \n",
    "\n",
    "\n",
    "For example, in order to manufacture these two hot sauce products, different amount of peppers and vineger are needed. Also, we have only so much total resource available.\n",
    "\n",
    "Ingridients | Kapatio | Zriracha | Total Available\n",
    "----------- | ------- | -------- | ------------------\n",
    "Pepper      | 5       | 7        | 30\n",
    "Vineger     | 4       | 2        | 12\n",
    "\n",
    "## Question 1: Resource Constraints\n",
    "\n",
    "### Question 1.a: Modeling Resource Usage\n",
    "\n",
    "What is the equation for the amount of pepper needed to manufacture $x_1$ and $x_2$. What is the equation for the amount of vinegar?\n",
    "(Use [Mathpix](https://mathpix.com/) to write equations)\n",
    "\n",
    "<!--\n",
    "BEGIN QUESTION\n",
    "name: q1a\n",
    "manual: true\n",
    "points: 4\n",
    "-->"
   ]
  },
  {
   "cell_type": "markdown",
   "metadata": {},
   "source": [
    "\\begin{equation}\n",
    "\\begin{aligned}\n",
    "&f(P)=5 * x 1+7 * x 2 \\\\\n",
    "&f(V)=4 * x 1+2 * x 2\n",
    "\\end{aligned}\n",
    "\\end{equation}"
   ]
  },
  {
   "cell_type": "markdown",
   "metadata": {
    "deletable": false,
    "editable": false
   },
   "source": [
    "<!-- END QUESTION -->\n",
    "\n",
    "<!-- BEGIN QUESTION -->\n",
    "\n",
    "### Question 1.b:  Resource Usage vs. Total Resource Constraint\n",
    "\n",
    "Total amount of pepper needed cannot exceed total available. Write down the inequality expressing this relationship. Do the same for vinegar. These inequalities are your resource constraints.\n",
    "Additinally, variables $x_1$ and $x_2$ are non-negative: i.e. amount of manufactured goods cannot be negative.\n",
    "\n",
    "Rewrite the system of constraint inequalities into a matrix inequality: $Ax\\leq b$, where $x=(x_1, x_2)^T$. Arrange rows of $A$ and $b$ such that:\n",
    "\n",
    "* Row 1: total pepper amount constraint\n",
    "* Row 2: total vinegar amount constraint\n",
    "* Row 3: Kapatio non-negativity constraint\n",
    "* Row 4: Zriracha non-negativity constraint\n",
    "\n",
    "Less than symbol in $Ax\\leq b$ means element-wise.\n",
    "\n",
    "<!--\n",
    "BEGIN QUESTION\n",
    "name: q1b1\n",
    "manual: true\n",
    "points: 4\n",
    "-->"
   ]
  },
  {
   "cell_type": "markdown",
   "metadata": {},
   "source": [
    "\\begin{equation}\n",
    "\\begin{gathered}\n",
    "\\left[\\begin{array}{cc}\n",
    "5 & 7 \\\\\n",
    "4 & 2 \\\\\n",
    "-1 & 0 \\\\\n",
    "0 & -1\n",
    "\\end{array}\\right]\\left[\\begin{array}{l}\n",
    "x_{1} \\\\\n",
    "x_{2}\n",
    "\\end{array}\\right] \\leq\\left[\\begin{array}{c}\n",
    "30 \\\\\n",
    "12 \\\\\n",
    "0 \\\\\n",
    "0\n",
    "\\end{array}\\right]\n",
    "\\end{gathered}\n",
    "\\end{equation}"
   ]
  },
  {
   "cell_type": "markdown",
   "metadata": {
    "deletable": false,
    "editable": false
   },
   "source": [
    "<!-- END QUESTION -->\n",
    "\n",
    "Define matrix `A1` and vector `b1` according to matrix inequality above.\n",
    "\n",
    "<!--\n",
    "BEGIN QUESTION\n",
    "name: q1b2\n",
    "manual: false\n",
    "points: 4\n",
    "-->"
   ]
  },
  {
   "cell_type": "code",
   "execution_count": 115,
   "metadata": {},
   "outputs": [],
   "source": [
    "A1 = np.array([[5,7],[4,2],[-1,0],[0,-1]])\n",
    "b1 = np.array([30,12,0,0])"
   ]
  },
  {
   "cell_type": "code",
   "execution_count": 116,
   "metadata": {
    "deletable": false,
    "editable": false
   },
   "outputs": [
    {
     "data": {
      "text/html": [
       "\n",
       "    <p><strong>q1b2</strong> passed!</p>\n",
       "    "
      ],
      "text/plain": [
       "q1b2 passed!"
      ]
     },
     "execution_count": 116,
     "metadata": {},
     "output_type": "execute_result"
    }
   ],
   "source": [
    "grader.check(\"q1b2\")"
   ]
  },
  {
   "cell_type": "markdown",
   "metadata": {},
   "source": [
    "### Visualizing Feasible Region <a class=\"tocSkip\">\n",
    "In a 2-dimensional plot, we will visualize the area that satisfies both of the resource constraints. Draw $x_1$ on the horizontal axis and $x_2$ on the vertical axis. \n",
    "\n",
    "There will be two main components to the plot:\n",
    "* **Lines** indicating constraint boundaries:  \n",
    "    e.g. the constraint $x_2\\geq 0$ has boundary at $x_2 = 0$.\n",
    "* **Shaded area** indicating feasible regions:  \n",
    "    e.g., the whole region $x_2 > 0$ is to be shaded _if_ $x_2\\geq 0$ was the only constraint. We will use shading to indicate the region where _all_ constraints are satisfied."
   ]
  },
  {
   "cell_type": "code",
   "execution_count": 117,
   "metadata": {},
   "outputs": [],
   "source": [
    "x1_line = np.linspace(-1, 10, 500)\n",
    "x2_line = np.linspace(-1, 10, 500)"
   ]
  },
  {
   "cell_type": "markdown",
   "metadata": {},
   "source": [
    "### Question 1.c: Feasible Region Boundary\n",
    "\n",
    "In a list named `boundary`, create four data frames for each equality in $Ax=b$. These lines indicate where the feasible area ends. Set column names as\n",
    "\n",
    "* `$x_1$`\n",
    "* `$x_2$`\n",
    "* `constraints`\n",
    "\n",
    "Note the use of latex codes (feel free to use [Mathpix](https://mathpix.com/)). \n",
    "\n",
    "#### Toy Example: Drawing Boundaries <a class=\"tocSkip\">\n",
    "\n",
    "Here is a **toy example** of drawing two constraint boundaries by constructing data frames:"
   ]
  },
  {
   "cell_type": "code",
   "execution_count": 118,
   "metadata": {},
   "outputs": [
    {
     "data": {
      "image/png": "[encoded data removed]",
      "text/plain": [
       "<Figure size 432x432 with 1 Axes>"
      ]
     },
     "metadata": {},
     "output_type": "display_data"
    }
   ],
   "source": [
    "z1_line = np.linspace(-1, 10, 500)\n",
    "z2_line = np.linspace(-1, 10, 500)\n",
    "\n",
    "boundary = [\n",
    "    pd.DataFrame({\n",
    "        '$z_1$': np.ones_like(z2_line)*1,\n",
    "        '$z_2$': z2_line,\n",
    "        'constraint': '$z_1\\geq 1$'\n",
    "    }),\n",
    "    pd.DataFrame({\n",
    "        '$z_1$': z1_line,\n",
    "        '$z_2$': np.ones_like(z1_line)*2,\n",
    "        'constraint': '$z_2\\geq 2$'\n",
    "    }),\n",
    "]\n",
    "fig, ax = plt.subplots(figsize=(6, 6))\n",
    "sns.lineplot(x='$z_1$', y='$z_2$', hue='constraint', data=pd.concat(boundary), ax=ax).axvline(1)\n",
    "plt.xlim(-1, 6)\n",
    "plt.ylim(-1, 6)\n",
    "plt.show()"
   ]
  },
  {
   "cell_type": "markdown",
   "metadata": {
    "deletable": false,
    "editable": false
   },
   "source": [
    "<!-- BEGIN QUESTION -->\n",
    "\n",
    "Sometimes, things just do not work as expected. \n",
    "\n",
    "In the toy example code, \n",
    "```\n",
    "sns.lineplot(x='$z_1$', y='$z_2$', hue='constraint', data=pd.concat(boundary), ax=ax).axvline(1)\n",
    "```\n",
    "what seems strange about the plotting command? Why was the strange code necessary?\n",
    "\n",
    "<!--\n",
    "BEGIN QUESTION\n",
    "name: q1c1\n",
    "manual: true\n",
    "points: 4\n",
    "-->"
   ]
  },
  {
   "cell_type": "markdown",
   "metadata": {},
   "source": [
    "It seems strange that the hue is set to 'constraint' where usually hue is a vector of numbers. It is necessary though since we are dealing with LaTex code."
   ]
  },
  {
   "cell_type": "markdown",
   "metadata": {},
   "source": [
    "<!-- END QUESTION -->\n",
    "\n",
    "\n",
    "\n",
    "#### Example: Resource Constraint Boundary  <a class=\"tocSkip\">\n",
    "\n",
    "Now, create a data frame for the non-negativity constraint $x_2\\geq 0$ as follows:"
   ]
  },
  {
   "cell_type": "code",
   "execution_count": 119,
   "metadata": {},
   "outputs": [
    {
     "data": {
      "text/plain": [
       "(         $x_1$  $x_2$    constraint\n",
       " 0    -1.000000   -0.0  $x_2 \\geq 0$\n",
       " 1    -0.977956   -0.0  $x_2 \\geq 0$\n",
       " 2    -0.955912   -0.0  $x_2 \\geq 0$\n",
       " 3    -0.933868   -0.0  $x_2 \\geq 0$\n",
       " 4    -0.911824   -0.0  $x_2 \\geq 0$\n",
       " ..         ...    ...           ...\n",
       " 495   9.911824    0.0  $x_2 \\geq 0$\n",
       " 496   9.933868    0.0  $x_2 \\geq 0$\n",
       " 497   9.955912    0.0  $x_2 \\geq 0$\n",
       " 498   9.977956    0.0  $x_2 \\geq 0$\n",
       " 499  10.000000    0.0  $x_2 \\geq 0$\n",
       " \n",
       " [500 rows x 3 columns],)"
      ]
     },
     "execution_count": 119,
     "metadata": {},
     "output_type": "execute_result"
    }
   ],
   "source": [
    "pd.DataFrame({'$x_1$':x1_line,               ## x_1 can take on any value\n",
    "              '$x_2$':x1_line * 0.0,         ## x_2 = 0\n",
    "              'constraint':'$x_2 \\geq 0$'}), ## constraint equation for labeling"
   ]
  },
  {
   "cell_type": "markdown",
   "metadata": {
    "deletable": false,
    "editable": false
   },
   "source": [
    "Create a list named `boundary` containing four data frames (each corresponding to a constraint). Concatenate data frames in `boundary` to one data frame named `hull`.\n",
    "\n",
    "<!--\n",
    "BEGIN QUESTION\n",
    "name: q1c2\n",
    "manual: false\n",
    "points: 6\n",
    "-->"
   ]
  },
  {
   "cell_type": "code",
   "execution_count": 120,
   "metadata": {},
   "outputs": [],
   "source": [
    "boundary = [\n",
    "    pd.DataFrame({'$x_1$': x1_line,\n",
    "                  '$x_2$': (30-5*x1_line)/7,\n",
    "                  'constraint':'$5 x_1 + 7 x_2 \\leq 30$'}),\n",
    "    pd.DataFrame({'$x_1$': x1_line,\n",
    "                  '$x_2$': (12-x1_line*4)/2,\n",
    "                  'constraint':'$4 x_1 + 2 x_2 \\leq 12$'}),\n",
    "    pd.DataFrame({'$x_1$': x2_line*0.0, \n",
    "                  '$x_2$': x2_line*1.,\n",
    "                  'constraint':'$x_1\\geq 0$'}),\n",
    "    pd.DataFrame({'$x_1$':x2_line,\n",
    "                  '$x_2$':x2_line * 0.0,\n",
    "                  'constraint':'$x_2\\geq 0$'})\n",
    "]\n",
    "hull = pd.concat(boundary)"
   ]
  },
  {
   "cell_type": "code",
   "execution_count": 121,
   "metadata": {
    "deletable": false,
    "editable": false
   },
   "outputs": [
    {
     "data": {
      "text/html": [
       "\n",
       "    <p><strong>q1c2</strong> passed!</p>\n",
       "    "
      ],
      "text/plain": [
       "q1c2 passed!"
      ]
     },
     "execution_count": 121,
     "metadata": {},
     "output_type": "execute_result"
    }
   ],
   "source": [
    "grader.check(\"q1c2\")"
   ]
  },
  {
   "cell_type": "markdown",
   "metadata": {},
   "source": [
    "### Question 1.d: Interior of Feasible Region\n",
    "\n",
    "Previous question prepared constraint boundaries, $Ax = b$. In this question, we calculate the interior of the feasible region, which will be shaded in the visualization. First, create a 2-d array of $x_1$ and $x_2$ values. If a point $(x_1, x_2)$ satisfies _every_ constraint, the point will be colored grey.\n",
    "\n",
    "For example, in order to shade $\\{x_1: x_1\\geq 1\\}\\cap\\{x_2: x_2\\geq 2\\}$, we can use the `imshow` method. "
   ]
  },
  {
   "cell_type": "code",
   "execution_count": 122,
   "metadata": {},
   "outputs": [
    {
     "data": {
      "image/png": "[encoded data removed]",
      "text/plain": [
       "<Figure size 432x432 with 1 Axes>"
      ]
     },
     "metadata": {},
     "output_type": "display_data"
    }
   ],
   "source": [
    "z1_line = np.linspace(-1, 6, 10)\n",
    "z2_line = np.linspace(-1, 6, 10)\n",
    "z1_grid, z2_grid = np.meshgrid(z1_line, z2_line)\n",
    "\n",
    "fig, az = plt.subplots(figsize=(6, 6))\n",
    "az.imshow(\n",
    "    ((z1_grid >= 1) & (z2_grid >= 2)).astype(int),\n",
    "    origin='lower',\n",
    "    extent=(z1_grid.min(), z1_grid.max(), z2_grid.min(), z2_grid.max()),\n",
    "    cmap=\"Greys\", alpha=0.3, aspect='equal' \n",
    ")\n",
    "plt.xlim(-1, 6)\n",
    "plt.ylim(-1, 6)\n",
    "plt.show()"
   ]
  },
  {
   "cell_type": "markdown",
   "metadata": {
    "deletable": false,
    "editable": false
   },
   "source": [
    "<!-- BEGIN QUESTION -->\n",
    "\n",
    "By dissecting the command below and reading the documentation, report what each of the following lines does:\n",
    "\n",
    "* `((y1_grid >= 1) & (y2_grid >= 2)).astype(int)` (What is the output of running this command?)  \n",
    "* `origin='lower'`  \n",
    "* `extent=(y1_grid.min(), y1_grid.max(), y2_grid.min(), y2_grid.max())`  \n",
    "* `cmap='Greys'`  \n",
    "* `alpha=0.3`  \n",
    "* `aspect='equal'`  \n",
    "\n",
    "<!--\n",
    "BEGIN QUESTION\n",
    "name: q1d1\n",
    "manual: true\n",
    "points: 6\n",
    "-->"
   ]
  },
  {
   "cell_type": "markdown",
   "metadata": {},
   "source": [
    "((y1_grid >= 1) & (y2_grid >= 2)).astype(int) Creates a grid that is black and white that outlines the area of constraint\n",
    "\n",
    "origin='lower' Places index of the array in the lower left corner of the Axes and makes the vertical axis point upwards\n",
    "\n",
    "extent=(y1_grid.min(), y1_grid.max(), y2_grid.min(), y2_grid.max()) The bounding box in data coordinates that the image will fill in this case it is for our z1_grid and z2_grid min and max\n",
    "\n",
    "cmap='Greys' maps the scalar data to a color, in this case grey\n",
    "\n",
    "alpha=0.3 turns the boundary area grey by decreasing transparenty.\n",
    "\n",
    "aspect='equal'ensures an aspect ratio of 1, pixels will be square"
   ]
  },
  {
   "cell_type": "markdown",
   "metadata": {
    "deletable": false,
    "editable": false
   },
   "source": [
    "<!-- END QUESTION -->\n",
    "\n",
    "<!-- BEGIN QUESTION -->\n",
    "\n",
    "### Question 1.e: Visualizing the Feasible Region\n",
    "\n",
    "Finally, create a figure that shows constraint boundaries and the interior region shaded with a light grey color.\n",
    "\n",
    "Your output will look like this:  \n",
    "![hull](images/feasible.png)\n",
    "\n",
    "<!--\n",
    "BEGIN QUESTION\n",
    "name: q1e1\n",
    "manual: true\n",
    "points: 8\n",
    "-->"
   ]
  },
  {
   "cell_type": "code",
   "execution_count": 123,
   "metadata": {},
   "outputs": [
    {
     "data": {
      "image/png": "[encoded data removed]",
      "text/plain": [
       "<Figure size 432x432 with 1 Axes>"
      ]
     },
     "metadata": {},
     "output_type": "display_data"
    }
   ],
   "source": [
    "fig, ax = plt.subplots(figsize=(6, 6))\n",
    "x1_grid, x2_grid = np.meshgrid(x1_line, x2_line)\n",
    "\n",
    "ax.imshow(\n",
    "    (\n",
    "        ((x1_grid >= 0)&(x2_grid >= 0)&(5*x1_grid+7*x2_grid<=30)&(4*x1_grid+2*x2_grid<=12)).astype(float)\n",
    "    ),\n",
    "    origin='lower',\n",
    "    extent=(x1_grid.min(), x1_grid.max(), x2_grid.min(), x2_grid.max()),\n",
    "    cmap=\"Greys\", alpha = 0.3, aspect='equal')\n",
    "\n",
    "\n",
    "# ax = sns.lineplot(???).axvline(???)\n",
    "ax = sns.lineplot(x='$x_1$',y='$x_2$',hue='constraint',data=pd.concat(boundary),ax=ax).axvline(0,color=\"green\")\n",
    "\n",
    "plt.xlim(-1, 6)\n",
    "plt.ylim(-1, 6)\n",
    "plt.show()"
   ]
  },
  {
   "cell_type": "markdown",
   "metadata": {
    "deletable": false,
    "editable": false
   },
   "source": [
    "<!-- END QUESTION -->\n",
    "\n",
    "<!-- BEGIN QUESTION -->\n",
    "\n",
    "In the context of linear programming, $Ax\\leq b$ is called the _feasible region_ (including the appropriate sections of the boundaries). Denote the (shaded) feasible region as set $C$. Points $(x_1,x_2)\\in C$ satisfy all of the constraints.\n",
    "\n",
    "Describe in plain words the feasible region in the context of hot sauce manufacturing. Specifically, which constraint is violated (if any) by a point at:\n",
    "\n",
    "* $(x_1,x_2) = (4, 1)$\n",
    "* $(x_1,x_2) = (0, 5)$  \n",
    "* $(x_1,x_2) = (3, 4)$  \n",
    "\n",
    "<!--\n",
    "BEGIN QUESTION\n",
    "name: q1e2\n",
    "manual: true\n",
    "points: 6\n",
    "-->"
   ]
  },
  {
   "cell_type": "markdown",
   "metadata": {},
   "source": [
    "(4,1) = constraint 4*x1 + 2*x2 <= 12 is violated\n",
    "\n",
    "(0,5) = constraint 5*x1 + 7*x2 <= 30 is violated\n",
    "\n",
    "(3,4) = constraints 4*x1 + 2*x2 <= 12 AND 5*x1 + 7*x2 <= 30 are violated"
   ]
  },
  {
   "cell_type": "markdown",
   "metadata": {
    "deletable": false,
    "editable": false
   },
   "source": [
    "<!-- END QUESTION -->\n",
    "\n",
    "<!-- BEGIN QUESTION -->\n",
    "\n",
    "## Question 2: Objective Function\n",
    "\n",
    "### Question 2.a: Defining Objective Function\n",
    "\n",
    "Suppose the hot sauces are sold at the same price: \\\\$5 per liter. \n",
    "\n",
    "What is the equation $f(x)$ for the total revenue as a function of $x_1$ and $x_2$? \n",
    "\n",
    "The function $f(x)$ is called the objective function.\n",
    "\n",
    "<!--\n",
    "BEGIN QUESTION\n",
    "name: q2a1\n",
    "manual: true\n",
    "points: 4\n",
    "-->"
   ]
  },
  {
   "cell_type": "markdown",
   "metadata": {},
   "source": [
    "\\begin{equation}\n",
    "f(x)=5 x 1+5 x 2\n",
    "\\end{equation}"
   ]
  },
  {
   "cell_type": "markdown",
   "metadata": {
    "deletable": false,
    "editable": false
   },
   "source": [
    "<!-- END QUESTION -->\n",
    "\n",
    "Objective function $f(x)$ is a linear function in $x$. Therefore, $f(x)$ is a 2-dimesional hyperplane. Note that each value of $f(x)$ defines a line in $(x_1, x_2)$ plane.\n",
    "\n",
    "For example, $f(x)= 0 = c_1x_1 + c_2x_2$ defines a line. A subspace of equal function value is sometimes referred to as a _level set_ or a _contour line_ when visualized.\n",
    "\n",
    "First, create a numpy array of prices `c` for the two hot sauces, $x_1$ and $x_2$. Then, create a list `f_vals` containing four data frames of contour lines, $f(x) \\in \\{0, 10, 20, 30\\}$. by creating one data frame for each contour line. \n",
    "\n",
    "<!--\n",
    "BEGIN QUESTION\n",
    "name: q2a2\n",
    "manual: false\n",
    "points: 4\n",
    "-->"
   ]
  },
  {
   "cell_type": "code",
   "execution_count": 124,
   "metadata": {},
   "outputs": [
    {
     "data": {
      "image/png": "[encoded data removed]",
      "text/plain": [
       "<Figure size 432x432 with 1 Axes>"
      ]
     },
     "metadata": {},
     "output_type": "display_data"
    }
   ],
   "source": [
    "c = np.array([5,5])\n",
    "\n",
    "fig, ax = plt.subplots(figsize=(6, 6))\n",
    "contours = [\n",
    "    pd.DataFrame({\n",
    "        '$x_1$': x1_line,\n",
    "        '$x_2$': ( 0 - c[0]*x1_line)/c[1],\n",
    "        '$f(x)$': 0\n",
    "    }),\n",
    "    pd.DataFrame({\n",
    "        '$x_1$': x1_line,\n",
    "        '$x_2$': ( 10 - c[0]*x1_line)/c[1],\n",
    "        '$f(x)$': 10\n",
    "    }),\n",
    "    pd.DataFrame({\n",
    "        '$x_1$': x1_line,\n",
    "        '$x_2$': ( 20 - c[0]*x1_line)/c[1],\n",
    "        '$f(x)$': 20\n",
    "    }),\n",
    "    pd.DataFrame({\n",
    "        '$x_1$': x1_line,\n",
    "        '$x_2$': ( 30 - c[0]*x1_line)/c[1],\n",
    "        '$f(x)$': 30\n",
    "    }),\n",
    "    \n",
    "]\n",
    "f_vals = pd.concat(contours)\n",
    "\n",
    "# ax = sns.lineplot(???)\n",
    "ax = sns.lineplot(x='$x_1$',y='$x_2$',hue='$f(x)$',data=f_vals)\n",
    "\n",
    "plt.xlim(-1, 6)\n",
    "plt.ylim(-1, 6)\n",
    "plt.show()"
   ]
  },
  {
   "cell_type": "code",
   "execution_count": 125,
   "metadata": {
    "deletable": false,
    "editable": false
   },
   "outputs": [
    {
     "data": {
      "text/html": [
       "\n",
       "    <p><strong>q2a2</strong> passed!</p>\n",
       "    "
      ],
      "text/plain": [
       "q2a2 passed!"
      ]
     },
     "execution_count": 125,
     "metadata": {},
     "output_type": "execute_result"
    }
   ],
   "source": [
    "grader.check(\"q2a2\")"
   ]
  },
  {
   "cell_type": "markdown",
   "metadata": {
    "deletable": false,
    "editable": false
   },
   "source": [
    "<!-- BEGIN QUESTION -->\n",
    "\n",
    "### Question 2.b: Direction of Steepest Increase\n",
    "\n",
    "Since we want to maximize revenue, we want to increase our objective function as much as possible. Analogous to the minimization example given in a previous lecture, we can repeatedly move in the direction of function increase. In order to determine such direction, compute the gradient of $f(x)$ at $x=(0,0)^T$:\n",
    "$$\\nabla_x f(x) = \\begin{pmatrix}\\frac{\\partial f(x)}{\\partial x_1}\\\\\\frac{\\partial f(x)}{\\partial x_2}\\end{pmatrix} $$\n",
    "\n",
    "<!--\n",
    "BEGIN QUESTION\n",
    "name: q2b\n",
    "manual: true\n",
    "points: 4\n",
    "-->"
   ]
  },
  {
   "cell_type": "markdown",
   "metadata": {},
   "source": [
    "\\begin{equation}\n",
    "\\begin{aligned}\n",
    "&\\frac{\\partial f(x)}{\\partial x_{1}}=\\frac{\\partial\\left(5 x_{1}+5 x_{2}\\right)}{\\partial x_{1}}=5 \\\\\n",
    "&\\frac{\\partial f(x)}{\\partial x_{2}}=\\frac{\\partial\\left(5 x_{1}+5 x_{2}\\right)}{\\partial x_{2}}=5 \\\\\n",
    "&\\nabla_{x} f(x)=\\left(\\begin{array}{c}\n",
    "\\frac{\\partial f(x)}{\\partial x_{1}} \\\\\n",
    "\\frac{\\partial f(x)}{\\partial x_{2}}\n",
    "\\end{array}\\right)=\\left(\\begin{array}{l}\n",
    "5 \\\\\n",
    "5\n",
    "\\end{array}\\right)\n",
    "\\end{aligned}\n",
    "\\end{equation}"
   ]
  },
  {
   "cell_type": "markdown",
   "metadata": {
    "deletable": false,
    "editable": false
   },
   "source": [
    "<!-- END QUESTION -->\n",
    "\n",
    "<!-- BEGIN QUESTION -->\n",
    "\n",
    "## Question 3: Putting Pieces Together\n",
    "\n",
    "### Question 3.a: Standard Form of a Linear Programming Problem\n",
    "\n",
    "Write down the so-called the _standard form_ of a linear programming problem:\n",
    "$$\\begin{aligned}\n",
    "\\max_x & f(x)\\\\\n",
    "\\text{subject to } & Ax\\leq b\n",
    "\\end{aligned}$$\n",
    "\n",
    "Specifically, write the obejective as an inner product of two vectors: $f(x) = c^T x$, and write the constraint as a vector inequality involving a matrix-vector prduct: $Ax\\leq b$, where $A$ is a 4-by-2 matrix.\n",
    "\n",
    "<!--\n",
    "BEGIN QUESTION\n",
    "name: q3a\n",
    "manual: true\n",
    "points: 4\n",
    "-->"
   ]
  },
  {
   "cell_type": "markdown",
   "metadata": {},
   "source": [
    "\\begin{equation}\n",
    "\\begin{gathered}\n",
    " c=\\left[\\begin{array}{l}\n",
    "5 \\\\\n",
    "5\n",
    "\\end{array}\\right] \\text { and } x=\\left[\\begin{array}{l}\n",
    "x_{1} \\\\\n",
    "x_{2}\n",
    "\\end{array}\\right] \\\\\n",
    "\\text { subject to }\\left[\\begin{array}{cc}\n",
    "5 & 7 \\\\\n",
    "4 & 2 \\\\\n",
    "-1 & 0 \\\\\n",
    "0 & -1\n",
    "\\end{array}\\right]\\left[\\begin{array}{l}\n",
    "x_{1} \\\\\n",
    "x_{2}\n",
    "\\end{array}\\right] \\leq\\left[\\begin{array}{c}\n",
    "30 \\\\\n",
    "12 \\\\\n",
    "0 \\\\\n",
    "0\n",
    "\\end{array}\\right]\n",
    "\\end{gathered}\n",
    "\\end{equation}"
   ]
  },
  {
   "cell_type": "markdown",
   "metadata": {
    "deletable": false,
    "editable": false
   },
   "source": [
    "<!-- END QUESTION -->\n",
    "\n",
    "### Question 3.b: Computing the Numerical Solution\n",
    "\n",
    "Therefore, _maximizing_ the revenue is a search over the feasible region for the best point $x^*=(x_1^*, x_2^*)$ that gives the largest revenue. On the otherhand, any _infeasible_ point _not_ in the feasible region cannot be a solution to the constrained optimization problem.\n",
    "\n",
    "Notationally, the following expression means the same thing:\n",
    "$$x^* = \\arg\\max_{\\{x: Ax\\leq b\\}} f(x)$$\n",
    "\n",
    "Using [CVXPY](https://www.cvxpy.org/), solve for the resource allocation problem with constraints.\n",
    "\n",
    "<!--\n",
    "BEGIN QUESTION\n",
    "name: q3b\n",
    "manual: false\n",
    "points: 4\n",
    "-->"
   ]
  },
  {
   "cell_type": "code",
   "execution_count": 126,
   "metadata": {},
   "outputs": [],
   "source": [
    "# define variables\n",
    "x = cp.Variable(2)\n",
    "\n",
    "# define the linear program\n",
    "problem = cp.Problem(\n",
    "    cp.Maximize(5*cp.sum(x)),[A1@x <= b1]\n",
    ")\n",
    "\n",
    "fstar1 = problem.solve()                                                 # maximum attained function value\n",
    "xstar1 = pd.DataFrame(x.value.reshape(1, 2), columns=['$x_1$', '$x_2$']) # maximizer x for f"
   ]
  },
  {
   "cell_type": "code",
   "execution_count": 127,
   "metadata": {
    "deletable": false,
    "editable": false
   },
   "outputs": [
    {
     "data": {
      "text/html": [
       "\n",
       "    <p><strong>q3b</strong> passed!</p>\n",
       "    "
      ],
      "text/plain": [
       "q3b passed!"
      ]
     },
     "execution_count": 127,
     "metadata": {},
     "output_type": "execute_result"
    }
   ],
   "source": [
    "grader.check(\"q3b\")"
   ]
  },
  {
   "cell_type": "markdown",
   "metadata": {
    "deletable": false,
    "editable": false
   },
   "source": [
    "<!-- BEGIN QUESTION -->\n",
    "\n",
    "### Question 3.c: Plotting the optimal solution\n",
    "\n",
    "<!--\n",
    "BEGIN QUESTION\n",
    "name: q3c\n",
    "manual: true\n",
    "points: 4\n",
    "-->"
   ]
  },
  {
   "cell_type": "code",
   "execution_count": 128,
   "metadata": {},
   "outputs": [
    {
     "data": {
      "image/png": "[encoded data removed]",
      "text/plain": [
       "<Figure size 432x432 with 1 Axes>"
      ]
     },
     "metadata": {},
     "output_type": "display_data"
    }
   ],
   "source": [
    "fig, ax = plt.subplots(figsize=(6, 6))\n",
    "x1_grid, x2_grid = np.meshgrid(x1_line, x2_line)\n",
    "ax.imshow(\n",
    "    (\n",
    "        (A1[0,0]*x1_grid + A1[0,1]*x2_grid <= b1[0]) & # Pepper constraints\n",
    "        (A1[1,0]*x1_grid + A1[1,1]*x2_grid <= b1[1]) & # Vinegar constraints\n",
    "        (A1[2,0]*x1_grid + A1[2,1]*x2_grid <= b1[2]) & \n",
    "        (A1[3,0]*x1_grid + A1[3,1]*x2_grid <= b1[3])   # non-negativity constraints \n",
    "    ),\n",
    "    origin='lower',\n",
    "    extent=(x1_grid.min(), x1_grid.max(), x2_grid.min(), x2_grid.max()),\n",
    "    cmap=\"Greys\", alpha = 0.3, aspect='equal' \n",
    ")\n",
    "sns.scatterplot(x='$x_1$', y='$x_2$', data=xstar1, ax=ax, s=100)\n",
    "sns.lineplot(x='$x_1$', y='$x_2$', hue='$f(x)$', data=f_vals, ax=ax)\n",
    "plt.xlim(-1, 6)\n",
    "plt.ylim(-1, 6)\n",
    "plt.show()"
   ]
  },
  {
   "cell_type": "markdown",
   "metadata": {},
   "source": [
    "<!-- END QUESTION -->\n",
    "\n",
    "\n",
    "\n",
    "# Question 4: Nutrition Problem\n",
    "\n",
    "During the second world war, the US Army set out to save money without damaging the nutritional health of members of the armed forces. \n",
    "\n",
    "> According to [this source](https://ibmdecisionoptimization.github.io/docplex-doc/mp/diet.html), the following problem is a _simple variation of the well-known diet problem that was posed by George Stigler and George Dantzig: how to choose foods that satisfy nutritional requirements while minimizing costs or maximizing satiety._\n",
    "> \n",
    "> _Stigler solved his model \"by hand\" because technology at the time did not yet support more sophisticated methods. However, in 1947, Jack Laderman, of the US National Bureau of Standards, applied the simplex method (an algorithm that was recently proposed by George Dantzig) to Stigler’s model. Laderman and his team of nine linear programmers, working on desk calculators, showed that Stigler’s heuristic approximation was very close to optimal (only 24 cents per year over the optimum found by the simplex method) and thus demonstrated the practicality of the simplex method on large-scale, real-world problems._\n",
    "> \n",
    "> _The problem that is solved in this example is to minimize the cost of a diet that satisfies certain nutritional constraints._\n",
    "\n",
    "The file `foods.csv` contains calorie, nutritional content, serving size, and price per serving information about 64 foods. Read it into a data frame named `foods`."
   ]
  },
  {
   "cell_type": "code",
   "execution_count": 129,
   "metadata": {},
   "outputs": [
    {
     "name": "stdout",
     "output_type": "stream",
     "text": [
      "                        Name  Calories  Cholesterol  Total_Fat  Sodium  \\\n",
      "0            Frozen Broccoli      73.8          0.0        0.8    68.2   \n",
      "1               Carrots, Raw      23.7          0.0        0.1    19.2   \n",
      "2                Celery, Raw       6.4          0.0        0.1    34.8   \n",
      "3                Frozen Corn      72.2          0.0        0.6     2.5   \n",
      "4       Lettuce, Iceberg,Raw       2.6          0.0        0.0     1.8   \n",
      "..                       ...       ...          ...        ...     ...   \n",
      "59         New Eng Clam Chwd     175.7         10.0        5.0  1864.9   \n",
      "60               Tomato Soup     170.7          0.0        3.8  1744.4   \n",
      "61  New Eng Clam Chwd, w/Mlk     163.7         22.3        6.6   992.0   \n",
      "62     Crm Mshrm Soup, w/Mlk     203.4         19.8       13.6  1076.3   \n",
      "63   Bean Bacon Soup, w/Watr     172.0          2.5        5.9   951.3   \n",
      "\n",
      "    Carbohydrates  Dietary_Fiber  Protein    Vit_A  Vit_C  Calcium  Iron  \\\n",
      "0            13.6            8.5      8.0   5867.4  160.2    159.0   2.3   \n",
      "1             5.6            1.6      0.6  15471.0    5.1     14.9   0.3   \n",
      "2             1.5            0.7      0.3     53.6    2.8     16.0   0.2   \n",
      "3            17.1            2.0      2.5    106.6    5.2      3.3   0.3   \n",
      "4             0.4            0.3      0.2     66.0    0.8      3.8   0.1   \n",
      "..            ...            ...      ...      ...    ...      ...   ...   \n",
      "59           21.8            1.5     10.9     20.1    4.8     82.8   2.8   \n",
      "60           33.2            1.0      4.1   1393.0  133.0     27.6   3.5   \n",
      "61           16.6            1.5      9.5    163.7    3.5    186.0   1.5   \n",
      "62           15.0            0.5      6.1    153.8    2.2    178.6   0.6   \n",
      "63           22.8            8.6      7.9    888.0    1.5     81.0   2.0   \n",
      "\n",
      "             Serving  Price/Serving ($)  \n",
      "0          10 Oz Pkg               0.16  \n",
      "1   1/2 Cup Shredded               0.07  \n",
      "2            1 Stalk               0.04  \n",
      "3            1/2 Cup               0.18  \n",
      "4             1 Leaf               0.02  \n",
      "..               ...                ...  \n",
      "59     1 C (8 Fl Oz)               0.75  \n",
      "60     1 C (8 Fl Oz)               0.39  \n",
      "61     1 C (8 Fl Oz)               0.99  \n",
      "62     1 C (8 Fl Oz)               0.65  \n",
      "63     1 C (8 Fl Oz)               0.67  \n",
      "\n",
      "[64 rows x 14 columns]\n"
     ]
    }
   ],
   "source": [
    "foods = pd.read_csv('files/foods.csv')\n",
    "print(foods)"
   ]
  },
  {
   "cell_type": "markdown",
   "metadata": {},
   "source": [
    "The file `nutritional_constraints.csv` contains healthy nutritional range constraints. Minimum and maximum allowed nutritional contents can be found in this file. Name the variable `requirements`."
   ]
  },
  {
   "cell_type": "code",
   "execution_count": 130,
   "metadata": {},
   "outputs": [
    {
     "name": "stdout",
     "output_type": "stream",
     "text": [
      "             Name Unit   Min    Max\n",
      "0        Calories  cal  2000   2250\n",
      "1     Cholesterol   mg     0    300\n",
      "2       Total_Fat    g     0     65\n",
      "3          Sodium   mg     0   2400\n",
      "4   Carbohydrates    g     0    300\n",
      "5   Dietary_Fiber    g    25    100\n",
      "6         Protein    g    50    100\n",
      "7           Vit_A   IU  5000  50000\n",
      "8           Vit_C   IU    50  20000\n",
      "9         Calcium   mg   800   1600\n",
      "10           Iron   mg    10     30\n"
     ]
    }
   ],
   "source": [
    "requirements = pd.read_csv('files/nutritional_constraints.csv')\n",
    "print(requirements)"
   ]
  },
  {
   "cell_type": "markdown",
   "metadata": {},
   "source": [
    "Extract the nutritional content of foods into a 2-d array named `ncontent`."
   ]
  },
  {
   "cell_type": "code",
   "execution_count": 131,
   "metadata": {},
   "outputs": [
    {
     "name": "stdout",
     "output_type": "stream",
     "text": [
      "                   0        1     2      3     4      5      6      7      8   \\\n",
      "Calories         73.8     23.7   6.4   72.2   2.6   20.0  171.5   88.2  277.4   \n",
      "Cholesterol       0.0      0.0   0.0    0.0   0.0    0.0    0.0    0.0  129.9   \n",
      "Total_Fat         0.8      0.1   0.1    0.6   0.0    0.1    0.2    5.5   10.8   \n",
      "Sodium           68.2     19.2  34.8    2.5   1.8    1.5   15.2    8.1  125.6   \n",
      "Carbohydrates    13.6      5.6   1.5   17.1   0.4    4.8   39.9    2.2    0.0   \n",
      "Dietary_Fiber     8.5      1.6   0.7    2.0   0.3    1.3    3.2    1.4    0.0   \n",
      "Protein           8.0      0.6   0.3    2.5   0.2    0.7    3.7    9.4   42.2   \n",
      "Vit_A          5867.4  15471.0  53.6  106.6  66.0  467.7    0.0   98.6   77.4   \n",
      "Vit_C           160.2      5.1   2.8    5.2   0.8   66.1   15.6    0.1    0.0   \n",
      "Calcium         159.0     14.9  16.0    3.3   3.8    6.7   22.7  121.8   21.9   \n",
      "Iron              2.3      0.3   0.2    0.3   0.1    0.3    4.3    6.2    1.8   \n",
      "\n",
      "                   9   ...     54     55      56      57      58      59  \\\n",
      "Calories        358.2  ...  108.0  142.0   150.1   184.8   158.1   175.7   \n",
      "Cholesterol       0.0  ...    0.0    0.0    12.3     7.2    10.0    10.0   \n",
      "Total_Fat        12.3  ...    1.0    7.4     4.6     4.0     3.8     5.0   \n",
      "Sodium         1237.1  ...  486.2  149.7  1862.2   964.8  1915.1  1864.9   \n",
      "Carbohydrates    58.3  ...   22.5   17.8    18.7    26.8    20.4    21.8   \n",
      "Dietary_Fiber    11.6  ...    0.9    1.8     1.5     4.1     4.0     1.5   \n",
      "Protein           8.2  ...    2.6    2.0     7.9    11.1    11.2    10.9   \n",
      "Vit_A          3055.2  ...    0.0   55.6  1308.7  4872.0  3785.1    20.1   \n",
      "Vit_C            27.9  ...    0.0    0.0     0.0     7.0     4.8     4.8   \n",
      "Calcium          80.2  ...   10.2   43.7    27.1    33.6    32.6    82.8   \n",
      "Iron              2.3  ...    1.2    0.4     1.5     2.1     2.2     2.8   \n",
      "\n",
      "                   60     61      62     63  \n",
      "Calories        170.7  163.7   203.4  172.0  \n",
      "Cholesterol       0.0   22.3    19.8    2.5  \n",
      "Total_Fat         3.8    6.6    13.6    5.9  \n",
      "Sodium         1744.4  992.0  1076.3  951.3  \n",
      "Carbohydrates    33.2   16.6    15.0   22.8  \n",
      "Dietary_Fiber     1.0    1.5     0.5    8.6  \n",
      "Protein           4.1    9.5     6.1    7.9  \n",
      "Vit_A          1393.0  163.7   153.8  888.0  \n",
      "Vit_C           133.0    3.5     2.2    1.5  \n",
      "Calcium          27.6  186.0   178.6   81.0  \n",
      "Iron              3.5    1.5     0.6    2.0  \n",
      "\n",
      "[11 rows x 64 columns]\n"
     ]
    }
   ],
   "source": [
    "ncontent = foods.iloc[:,range(1,12)].T\n",
    "print(ncontent)"
   ]
  },
  {
   "cell_type": "markdown",
   "metadata": {
    "deletable": false,
    "editable": false
   },
   "source": [
    "<!-- BEGIN QUESTION -->\n",
    "\n",
    "### Question 4.a: Define Constraints\n",
    "\n",
    "To avoid eating the same foods, limit each food intake to be 2 or less. Also, one cannot consume less than zero servings. Furthermore, apply the nutritional constraints as specified in `nutritional_constraints.csv` (assume that the units are the same as food nutritional contents)\n",
    "\n",
    "Note that a range constraints, e.g., $2000 \\leq \\text{total calories} \\leq 2250$, can be written as two constraints: $\\text{total calories} \\leq 2250$ and $-\\text{total calories} \\leq -2000$. Hence, we can rewrite caloric intake constraints as\n",
    "$$\\begin{aligned}\n",
    "-(\\text{calories in frozen broccoli})x_0 - (\\text{calories in raw carrots})x_1 - \\dots - (\\text{calories in bean bacon soup, w/watr})x_{63} = -c^T x&\\leq -2000\\\\\n",
    "  \\text{calories in frozen broccoli})x_0 + (\\text{calories in raw carrots})x_1 + \\dots + (\\text{calories in bean bacon soup, w/watr})x_{63} = c^T x&\\leq 2250\\\\\n",
    "\\end{aligned}$$\n",
    "where vector $c$ contains calorie information for all 64 foods and $x$ containts servings consumed of each food. Matrix $U$ and vector $w$ would be such that\n",
    "$$\\begin{aligned}\n",
    "U=\n",
    "\\begin{pmatrix}\n",
    "-c^T\\\\\n",
    "c^T\n",
    "\\end{pmatrix}\n",
    "\\text{ and }\n",
    "w = \\begin{pmatrix}\n",
    "-2000\\\\\n",
    "2250\n",
    "\\end{pmatrix}\n",
    "\\end{aligned},$$\n",
    "and the matrix-vector inequality would be $Ux\\leq w$. Range constraints of each food can be implemented similarly with identity matrices.\n",
    "\n",
    "Denote nutritional content information from `foods` data frame as $A$ and denote the `Min` and `Max` columns of `requirements` as vector $b_L$ and $b_U$, respectively. Construct $M$ and $d$ in $M x \\leq d$ using $I$ (identity matrix), $A$, $b_L$, $b_U$, and other constants, so that all the range constraints are expressed in $M x\\leq d$. (This is a theory question. No coding is involved)\n",
    "\n",
    "<!--\n",
    "BEGIN QUESTION\n",
    "name: q4a\n",
    "manual: true\n",
    "points: 4\n",
    "-->"
   ]
  },
  {
   "cell_type": "markdown",
   "metadata": {},
   "source": [
    "_Type your answer here, replacing this text._"
   ]
  },
  {
   "cell_type": "markdown",
   "metadata": {
    "deletable": false,
    "editable": false
   },
   "source": [
    "<!-- END QUESTION -->\n",
    "\n",
    "### Question 4.b: Create Python Variables\n",
    "\n",
    "Denote the servings of each food as $x_i$ where $i$ is the row index of each food in `foods` data frame: i.e. $x_0$ indicates number of servings of frozen broccoli, $x_1$ indicates that of raw carrots, etc.\n",
    "\n",
    "* Create cost vector `cost` that gives per serving cost. \n",
    "* Create matrix `M` and `d` that lists nutritional content in the following order:\n",
    "    * Non-negativity constraint of food consumed: i.e. 0 servings or more\n",
    "    * Upper limit on food consumed: i.e. 2 servings or less\n",
    "    * Lower limit on consumption of each nutrition: i.e. following `Min` column\n",
    "    * Upper limit on consumption of each nutrition: i.e. following `Max` column\n",
    "    \n",
    "<!--\n",
    "BEGIN QUESTION\n",
    "name: q4b\n",
    "manual: false\n",
    "points: 4\n",
    "-->"
   ]
  },
  {
   "cell_type": "code",
   "execution_count": 86,
   "metadata": {},
   "outputs": [],
   "source": [
    "M = np.concatenate([\n",
    "    -np.eye(64),\n",
    "     np.eye(64),\n",
    "    -ncontent,\n",
    "     ncontent\n",
    "])\n",
    "\n",
    "d = np.concatenate([\n",
    "    np.zeros((64)),\n",
    "    2*np.ones((64)),\n",
    "    -requirements['Min'],\n",
    "    requirements['Max']\n",
    "])\n",
    "\n",
    "cost = foods['Price/Serving ($)'].values"
   ]
  },
  {
   "cell_type": "code",
   "execution_count": 87,
   "metadata": {
    "deletable": false,
    "editable": false
   },
   "outputs": [
    {
     "data": {
      "text/html": [
       "\n",
       "    <p><strong>q4b</strong> passed!</p>\n",
       "    "
      ],
      "text/plain": [
       "q4b passed!"
      ]
     },
     "execution_count": 87,
     "metadata": {},
     "output_type": "execute_result"
    }
   ],
   "source": [
    "grader.check(\"q4b\")"
   ]
  },
  {
   "cell_type": "markdown",
   "metadata": {
    "deletable": false,
    "editable": false
   },
   "source": [
    "### Question 4.c: Solve the Problem\n",
    "\n",
    "Create cvxpy variable `servings` to represent the number of servings of food, and use cvxpy to solve for the optimal solution. \n",
    "\n",
    "Choose [ECOS as your solver](https://www.cvxpy.org/tutorial/advanced/index.html?highlight=osqp#choosing-a-solver).\n",
    "\n",
    "<!--\n",
    "BEGIN QUESTION\n",
    "name: q4c\n",
    "manual: false\n",
    "points: 4\n",
    "-->"
   ]
  },
  {
   "cell_type": "code",
   "execution_count": 90,
   "metadata": {},
   "outputs": [],
   "source": [
    "servings = cp.Variable(64)\n",
    "\n",
    "# define the linear program\n",
    "nutrition_problem = cp.Problem(\n",
    "    cp.Minimize(cost.T@servings),\n",
    "    [M@servings <= d]\n",
    ")\n",
    "\n",
    "# solve linear programming problem with ECOS solver\n",
    "# https://www.cvxpy.org/tutorial/advanced/index.html?highlight=osqp#choosing-a-solver\n",
    "fstar2 = nutrition_problem.solve(solver='ECOS')\n",
    "xstar2 = servings.value"
   ]
  },
  {
   "cell_type": "code",
   "execution_count": 93,
   "metadata": {},
   "outputs": [
    {
     "data": {
      "text/plain": [
       "1.248472293720891"
      ]
     },
     "execution_count": 93,
     "metadata": {},
     "output_type": "execute_result"
    }
   ],
   "source": [
    "fstar2"
   ]
  },
  {
   "cell_type": "code",
   "execution_count": 89,
   "metadata": {
    "deletable": false,
    "editable": false
   },
   "outputs": [
    {
     "data": {
      "text/html": [
       "\n",
       "    <p><strong>q4c</strong> passed!</p>\n",
       "    "
      ],
      "text/plain": [
       "q4c passed!"
      ]
     },
     "execution_count": 89,
     "metadata": {},
     "output_type": "execute_result"
    }
   ],
   "source": [
    "grader.check(\"q4c\")"
   ]
  },
  {
   "cell_type": "markdown",
   "metadata": {
    "deletable": false,
    "editable": false
   },
   "source": [
    "<!-- BEGIN QUESTION -->\n",
    "\n",
    "### Question 4.d: Interpreting the Results\n",
    "\n",
    "State the results in the context of the problem. How much of each food was consumed? List the foods and their calculated amounts. What is the total cost of feeding one soldier? \n",
    "\n",
    "<!--\n",
    "BEGIN QUESTION\n",
    "name: q4d\n",
    "manual: true\n",
    "points: 4\n",
    "-->"
   ]
  },
  {
   "cell_type": "markdown",
   "metadata": {},
   "source": [
    "The total cost for feeding one solider is $1.24"
   ]
  },
  {
   "cell_type": "code",
   "execution_count": 112,
   "metadata": {},
   "outputs": [
    {
     "name": "stdout",
     "output_type": "stream",
     "text": [
      "                        Name      servings\n",
      "0            Frozen Broccoli  8.024228e-02\n",
      "1               Carrots, Raw  2.240289e-01\n",
      "2                Celery, Raw  1.401558e-11\n",
      "3                Frozen Corn  3.148633e-12\n",
      "4       Lettuce, Iceberg,Raw  3.018374e-11\n",
      "..                       ...           ...\n",
      "59         New Eng Clam Chwd  6.674082e-13\n",
      "60               Tomato Soup  1.923350e-12\n",
      "61  New Eng Clam Chwd, w/Mlk  3.453333e-13\n",
      "62     Crm Mshrm Soup, w/Mlk  7.663001e-13\n",
      "63   Bean Bacon Soup, w/Watr  7.326201e-13\n",
      "\n",
      "[64 rows x 2 columns]\n"
     ]
    }
   ],
   "source": [
    "foods[\"servings\"] = xstar2.tolist()\n",
    "result = foods.iloc[:,[0,14]]\n",
    "print(result)"
   ]
  },
  {
   "cell_type": "markdown",
   "metadata": {},
   "source": [
    "<!-- END QUESTION -->\n",
    "\n",
    "\n",
    "\n",
    "_Cell intentionally blank_"
   ]
  },
  {
   "cell_type": "markdown",
   "metadata": {
    "deletable": false,
    "editable": false
   },
   "source": [
    "---\n",
    "\n",
    "To double-check your work, the cell below will rerun all of the autograder tests."
   ]
  },
  {
   "cell_type": "code",
   "execution_count": null,
   "metadata": {
    "deletable": false,
    "editable": false
   },
   "outputs": [],
   "source": [
    "grader.check_all()"
   ]
  },
  {
   "cell_type": "markdown",
   "metadata": {
    "deletable": false,
    "editable": false
   },
   "source": [
    "## Submission\n",
    "\n",
    "Make sure you have run all cells in your notebook in order before running the cell below, so that all images/graphs appear in the output. The cell below will generate a zip file for you to submit. **Please save before exporting!**"
   ]
  },
  {
   "cell_type": "code",
   "execution_count": null,
   "metadata": {
    "deletable": false,
    "editable": false
   },
   "outputs": [],
   "source": [
    "# Save your notebook first, then run this cell to export your submission.\n",
    "grader.export()"
   ]
  },
  {
   "cell_type": "markdown",
   "metadata": {},
   "source": [
    " "
   ]
  }
 ],
 "metadata": {
  "kernelspec": {
   "display_name": "Python 3",
   "language": "python",
   "name": "python3"
  },
  "language_info": {
   "codemirror_mode": {
    "name": "ipython",
    "version": 3
   },
   "file_extension": ".py",
   "mimetype": "text/x-python",
   "name": "python",
   "nbconvert_exporter": "python",
   "pygments_lexer": "ipython3",
   "version": "3.7.3"
  },
  "toc": {
   "base_numbering": 1,
   "nav_menu": {},
   "number_sections": false,
   "sideBar": true,
   "skip_h1_title": false,
   "title_cell": "Table of Contents",
   "title_sidebar": "Contents",
   "toc_cell": true,
   "toc_position": {
    "height": "calc(100% - 180px)",
    "left": "10px",
    "top": "150px",
    "width": "165px"
   },
   "toc_section_display": true,
   "toc_window_display": true
  }
 },
 "nbformat": 4,
 "nbformat_minor": 4
}
